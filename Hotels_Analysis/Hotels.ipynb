{
 "cells": [
  {
   "cell_type": "markdown",
   "metadata": {},
   "source": [
    "# Hotel Data Exploration\n",
    "\n",
    "We chose the following cities for an analysis of hotel listing factors:\n",
    "* Amsterdam \n",
    "* Beijing\n",
    "* Las Vegas\n",
    "* Los Angeles\n",
    "* Madrid\n",
    "* New York\n",
    "* Paris\n",
    "* Sydney\n",
    "\n",
    "The source for hotel data in this notebook is a 2016 World Hotel dataset downloaded from here https://github.com/lucasmonteiro001/free-world-hotel-database/blob/master/hotels.csv.zip. Because our Airbnb dataset was much larger and from the current year, we continued to look for other sources and did additional exploration using data downloaded from TripAdvisor (see \"hotel-tripadvisor\" directory).\n",
    "\n",
    "Plots were used intermittently to help direct data exploration and data cleaning. For discussion of conclusions, see Airbnb_vs_Hotel.ipynb in main directory.\n",
    "\n",
    "---"
   ]
  },
  {
   "cell_type": "code",
   "execution_count": 6,
   "metadata": {},
   "outputs": [],
   "source": [
    "# Dependencies and Setup\n",
    "import matplotlib.pyplot as plt\n",
    "import pandas as pd\n",
    "import numpy as np\n",
    "import requests\n",
    "import time\n",
    "import os\n",
    "import math\n",
    "import json\n",
    "# gmaps and geojson\n",
    "import geopy.distance\n",
    "import gmaps\n",
    "import gmaps.geojson_geometries\n",
    "\n",
    "# Google developer API key\n",
    "from config import gkey\n",
    "gmaps.configure(api_key=gkey)\n",
    "\n",
    "# List of Eight World Cities Chosen\n",
    "cityL=[\"Amsterdam\",\"Beijing\",\"Las Vegas\",\"Los Angeles\",\"Madrid\",\"New York\",\"Paris\",\"Sydney\"]\n",
    "\n",
    "# file to save geocodes for each city\n",
    "geo_data_file = os.path.join(\"Resources\",\"geocodes.csv\")\n",
    "\n",
    "# Hotels CSV File\n",
    "file_one = 'hotels.csv'"
   ]
  },
  {
   "cell_type": "code",
   "execution_count": 7,
   "metadata": {},
   "outputs": [
    {
     "ename": "IndexError",
     "evalue": "list index out of range",
     "output_type": "error",
     "traceback": [
      "\u001b[0;31m---------------------------------------------------------------------------\u001b[0m",
      "\u001b[0;31mIndexError\u001b[0m                                Traceback (most recent call last)",
      "\u001b[0;32m<ipython-input-7-d60cb09a15ee>\u001b[0m in \u001b[0;36m<module>\u001b[0;34m\u001b[0m\n\u001b[1;32m     11\u001b[0m     \u001b[0mgeo_data\u001b[0m \u001b[0;34m=\u001b[0m \u001b[0mresponse\u001b[0m\u001b[0;34m.\u001b[0m\u001b[0mjson\u001b[0m\u001b[0;34m(\u001b[0m\u001b[0;34m)\u001b[0m\u001b[0;34m\u001b[0m\u001b[0;34m\u001b[0m\u001b[0m\n\u001b[1;32m     12\u001b[0m     \u001b[0mcdict\u001b[0m\u001b[0;34m=\u001b[0m\u001b[0;34m{\u001b[0m\u001b[0;34m\"city\"\u001b[0m\u001b[0;34m:\u001b[0m\u001b[0mcity\u001b[0m\u001b[0;34m}\u001b[0m\u001b[0;34m\u001b[0m\u001b[0;34m\u001b[0m\u001b[0m\n\u001b[0;32m---> 13\u001b[0;31m     \u001b[0mcdict\u001b[0m\u001b[0;34m[\u001b[0m\u001b[0;34m\"lat\"\u001b[0m\u001b[0;34m]\u001b[0m \u001b[0;34m=\u001b[0m \u001b[0mgeo_data\u001b[0m\u001b[0;34m[\u001b[0m\u001b[0;34m\"results\"\u001b[0m\u001b[0;34m]\u001b[0m\u001b[0;34m[\u001b[0m\u001b[0;36m0\u001b[0m\u001b[0;34m]\u001b[0m\u001b[0;34m[\u001b[0m\u001b[0;34m\"geometry\"\u001b[0m\u001b[0;34m]\u001b[0m\u001b[0;34m[\u001b[0m\u001b[0;34m\"location\"\u001b[0m\u001b[0;34m]\u001b[0m\u001b[0;34m[\u001b[0m\u001b[0;34m\"lat\"\u001b[0m\u001b[0;34m]\u001b[0m\u001b[0;34m\u001b[0m\u001b[0;34m\u001b[0m\u001b[0m\n\u001b[0m\u001b[1;32m     14\u001b[0m     \u001b[0mcdict\u001b[0m\u001b[0;34m[\u001b[0m\u001b[0;34m\"lng\"\u001b[0m\u001b[0;34m]\u001b[0m \u001b[0;34m=\u001b[0m \u001b[0mgeo_data\u001b[0m\u001b[0;34m[\u001b[0m\u001b[0;34m\"results\"\u001b[0m\u001b[0;34m]\u001b[0m\u001b[0;34m[\u001b[0m\u001b[0;36m0\u001b[0m\u001b[0;34m]\u001b[0m\u001b[0;34m[\u001b[0m\u001b[0;34m\"geometry\"\u001b[0m\u001b[0;34m]\u001b[0m\u001b[0;34m[\u001b[0m\u001b[0;34m\"location\"\u001b[0m\u001b[0;34m]\u001b[0m\u001b[0;34m[\u001b[0m\u001b[0;34m\"lng\"\u001b[0m\u001b[0;34m]\u001b[0m\u001b[0;34m\u001b[0m\u001b[0;34m\u001b[0m\u001b[0m\n\u001b[1;32m     15\u001b[0m     \u001b[0mcdict\u001b[0m\u001b[0;34m[\u001b[0m\u001b[0;34m\"lat1\"\u001b[0m\u001b[0;34m]\u001b[0m \u001b[0;34m=\u001b[0m \u001b[0mgeo_data\u001b[0m\u001b[0;34m[\u001b[0m\u001b[0;34m\"results\"\u001b[0m\u001b[0;34m]\u001b[0m\u001b[0;34m[\u001b[0m\u001b[0;36m0\u001b[0m\u001b[0;34m]\u001b[0m\u001b[0;34m[\u001b[0m\u001b[0;34m\"geometry\"\u001b[0m\u001b[0;34m]\u001b[0m\u001b[0;34m[\u001b[0m\u001b[0;34m\"bounds\"\u001b[0m\u001b[0;34m]\u001b[0m\u001b[0;34m[\u001b[0m\u001b[0;34m\"northeast\"\u001b[0m\u001b[0;34m]\u001b[0m\u001b[0;34m[\u001b[0m\u001b[0;34m\"lat\"\u001b[0m\u001b[0;34m]\u001b[0m\u001b[0;34m\u001b[0m\u001b[0;34m\u001b[0m\u001b[0m\n",
      "\u001b[0;31mIndexError\u001b[0m: list index out of range"
     ]
    }
   ],
   "source": [
    "# Get location and bounding box latitude and longitude for each city using Google geocode\n",
    "base_url = \"https://maps.googleapis.com/maps/api/geocode/json?\"\n",
    "\n",
    "geobounds=[]\n",
    "params={\n",
    "    \"key\": gkey\n",
    "}\n",
    "for city in cityL:\n",
    "    params[\"address\"] = city\n",
    "    response = requests.get(base_url, params=params)\n",
    "    geo_data = response.json()\n",
    "    cdict={\"city\":city}\n",
    "    cdict[\"lat\"] = geo_data[\"results\"][0][\"geometry\"][\"location\"][\"lat\"]\n",
    "    cdict[\"lng\"] = geo_data[\"results\"][0][\"geometry\"][\"location\"][\"lng\"]\n",
    "    cdict[\"lat1\"] = geo_data[\"results\"][0][\"geometry\"][\"bounds\"][\"northeast\"][\"lat\"]\n",
    "    cdict[\"lng1\"] = geo_data[\"results\"][0][\"geometry\"][\"bounds\"][\"northeast\"][\"lng\"]\n",
    "    cdict[\"lat2\"] = geo_data[\"results\"][0][\"geometry\"][\"bounds\"][\"southwest\"][\"lat\"]\n",
    "    cdict[\"lng2\"] = geo_data[\"results\"][0][\"geometry\"][\"bounds\"][\"southwest\"][\"lng\"]\n",
    "    geobounds.append(cdict)\n",
    "\n",
    "geodf = pd.DataFrame(geobounds)\n",
    "\n",
    "# save geography coords\n",
    "geodf.to_csv(geo_data_file, index = False)\n",
    "\n",
    "geodf"
   ]
  },
  {
   "cell_type": "code",
   "execution_count": null,
   "metadata": {},
   "outputs": [],
   "source": [
    "# retrieve geography coords without re-running cell above\n",
    "geodf = pd.read_csv(geo_data_file, index_col = \"city\")\n",
    "geodf"
   ]
  },
  {
   "cell_type": "code",
   "execution_count": null,
   "metadata": {},
   "outputs": [],
   "source": [
    "# Hotels DataFrame\n",
    "citydf = pd.read_csv(file_one)\n",
    "citydf.head()"
   ]
  },
  {
   "cell_type": "code",
   "execution_count": null,
   "metadata": {},
   "outputs": [],
   "source": [
    "# Convert latitude into numeric\n",
    "citydf['latitude'] = pd.to_numeric(citydf['latitude'], errors='coerce')"
   ]
  },
  {
   "cell_type": "code",
   "execution_count": null,
   "metadata": {},
   "outputs": [],
   "source": [
    "citydf.dtypes"
   ]
  },
  {
   "cell_type": "code",
   "execution_count": null,
   "metadata": {},
   "outputs": [],
   "source": [
    "# retrieve Hotels info saved in folders with city names, merge into one dataframe\n",
    "\n",
    "# function for returning distance to point center for row with latitude and longitude in df\n",
    "def get_distance (row, center):\n",
    "    start = (row['latitude'], row['longitude'])\n",
    "    return geopy.distance.distance(start, center).km\n",
    "\n",
    "dfexists = False\n",
    "\n",
    "for city in cityL:\n",
    "    #print(path)\n",
    "    citydf = pd.read_csv(file_one)\n",
    "    citydf['latitude'] = pd.to_numeric(citydf['latitude'], errors='coerce')\n",
    "    citydf[\"key\"]=city\n",
    "    # make sure this only includes locations within city bounding box\n",
    "    coords = geodf.loc[city]\n",
    "    citydf = citydf.loc[(citydf[\"latitude\"] <= coords[\"lat1\"]) & (citydf[\"latitude\"] >= coords[\"lat2\"])&(citydf[\"longitude\"] <= coords[\"lng1\"]) & (citydf[\"longitude\"] >= coords[\"lng2\"])]\n",
    "    # add a new column, distance to center\n",
    "    center = (coords[\"lat\"],coords[\"lng\"])\n",
    "    citydf[\"center_distance\"] = citydf.apply (lambda row: get_distance(row, center),axis=1)\n",
    "    if dfexists:\n",
    "        allcitydf = pd.concat([allcitydf, citydf], ignore_index=True)\n",
    "    else:\n",
    "        allcitydf = citydf\n",
    "        dfexists = True\n",
    "\n",
    "\n",
    "allcitydf.head()"
   ]
  },
  {
   "cell_type": "code",
   "execution_count": null,
   "metadata": {},
   "outputs": [],
   "source": [
    "# get approx city bounding box size for metro size area comparison, approx listing density\n",
    "sizeL = []\n",
    "\n",
    "for city in cityL:\n",
    "    cdict={\"city\":city}\n",
    "    coords = geodf.loc[city]\n",
    "    width = geopy.distance.distance((coords['lat1'],coords['lng1']),(coords['lat2'],coords['lng1'])).km\n",
    "    height = geopy.distance.distance((coords['lat1'],coords['lng1']),(coords['lat1'],coords['lng2'])).km\n",
    "    cdict[\"width\"]=width\n",
    "    cdict[\"height\"]=height\n",
    "    cdict[\"area\"] = width * height\n",
    "    #cdict[\"listing_count\"] = allcitydf.loc[allcitydf[\"key\"]==city]['id'].count()\n",
    "    #cdict[\"list/sq_km\"] = cdict[\"listing_count\"]/cdict[\"area\"]\n",
    "    sizeL.append(cdict)\n",
    "    \n",
    "boundsizedf = pd.DataFrame(sizeL).set_index(\"city\")\n",
    "boundsizedf"
   ]
  },
  {
   "cell_type": "code",
   "execution_count": null,
   "metadata": {},
   "outputs": [],
   "source": [
    "# list cols in db\n",
    "allcitydf.columns"
   ]
  },
  {
   "cell_type": "code",
   "execution_count": null,
   "metadata": {},
   "outputs": [],
   "source": [
    "# Convert Price into Numeric\n",
    "allcitydf['price']= allcitydf['price'].astype(float)\n",
    "allcitydf.count()"
   ]
  },
  {
   "cell_type": "code",
   "execution_count": null,
   "metadata": {},
   "outputs": [],
   "source": [
    "# Multiple Rating by 20\n",
    "allcitydf['stars'] *= 20\n",
    "allcitydf.head(2)"
   ]
  },
  {
   "cell_type": "code",
   "execution_count": null,
   "metadata": {},
   "outputs": [],
   "source": [
    "# Delete Prices equal to 99999.0\n",
    "\n",
    "allcitydf = allcitydf.loc[allcitydf['price']!=99999.0]\n",
    "allcitydf[\"price\"].describe()"
   ]
  },
  {
   "cell_type": "code",
   "execution_count": null,
   "metadata": {},
   "outputs": [],
   "source": [
    "# dataframe with useful categories\n",
    "catsdf = allcitydf[['hotelName','latitude','longitude','price','stars','key','center_distance']]\n",
    "catsdf.head()"
   ]
  },
  {
   "cell_type": "code",
   "execution_count": null,
   "metadata": {
    "scrolled": true
   },
   "outputs": [],
   "source": [
    "# Rename star Column\n",
    "catsdf = catsdf.rename(columns={\"stars\":\"rating\"})\n",
    "catsdf.head(2)"
   ]
  },
  {
   "cell_type": "code",
   "execution_count": null,
   "metadata": {},
   "outputs": [],
   "source": [
    "# Number of counts after removing the value 99999\n",
    "catsdf.count()"
   ]
  },
  {
   "cell_type": "code",
   "execution_count": null,
   "metadata": {},
   "outputs": [],
   "source": [
    "# get average ratings/price for each city \n",
    "meandf = catsdf.groupby([\"key\"])[['price','rating']].mean()\n",
    "meandf.head(10)"
   ]
  },
  {
   "cell_type": "code",
   "execution_count": null,
   "metadata": {},
   "outputs": [],
   "source": [
    "# bar plot mean price comparison for each city\n",
    "meandf[\"price\"].plot(kind='bar')\n",
    "plt.xlabel(\"City\")\n",
    "plt.ylabel(\"Price per Night (US$)\")\n",
    "plt.title (\"Average Price for Hotels Rooms\")\n",
    "plt.savefig(\"Images/Hotels_Prices.png\")\n",
    "plt.show()"
   ]
  },
  {
   "cell_type": "code",
   "execution_count": null,
   "metadata": {
    "scrolled": true
   },
   "outputs": [],
   "source": [
    "# bar plot mean rating comparison for each city\n",
    "meandf[\"rating\"].plot(kind='bar')\n",
    "plt.xlabel(\"City\")\n",
    "plt.ylabel(\"Rating\")\n",
    "plt.title (\"Average Rating for Hotels\")\n",
    "plt.savefig(\"Images/Hotels_Rating.png\")\n",
    "plt.show()"
   ]
  },
  {
   "cell_type": "code",
   "execution_count": 8,
   "metadata": {},
   "outputs": [
    {
     "ename": "NameError",
     "evalue": "name 'catsdf' is not defined",
     "output_type": "error",
     "traceback": [
      "\u001b[0;31m---------------------------------------------------------------------------\u001b[0m",
      "\u001b[0;31mNameError\u001b[0m                                 Traceback (most recent call last)",
      "\u001b[0;32m<ipython-input-8-e816b534528e>\u001b[0m in \u001b[0;36m<module>\u001b[0;34m\u001b[0m\n\u001b[1;32m      1\u001b[0m \u001b[0;31m# Plot Heatmap of New York Listings with Intensity by Price\u001b[0m\u001b[0;34m\u001b[0m\u001b[0;34m\u001b[0m\u001b[0;34m\u001b[0m\u001b[0m\n\u001b[1;32m      2\u001b[0m \u001b[0;34m\u001b[0m\u001b[0m\n\u001b[0;32m----> 3\u001b[0;31m \u001b[0mnewyorkdf\u001b[0m\u001b[0;34m=\u001b[0m \u001b[0mcatsdf\u001b[0m\u001b[0;34m.\u001b[0m\u001b[0mloc\u001b[0m\u001b[0;34m[\u001b[0m\u001b[0mcatsdf\u001b[0m\u001b[0;34m[\u001b[0m\u001b[0;34m\"key\"\u001b[0m\u001b[0;34m]\u001b[0m\u001b[0;34m==\u001b[0m\u001b[0;34m\"New York\"\u001b[0m\u001b[0;34m]\u001b[0m\u001b[0;34m\u001b[0m\u001b[0;34m\u001b[0m\u001b[0m\n\u001b[0m\u001b[1;32m      4\u001b[0m \u001b[0mlocations\u001b[0m \u001b[0;34m=\u001b[0m \u001b[0mnewyorkdf\u001b[0m\u001b[0;34m[\u001b[0m\u001b[0;34m[\u001b[0m\u001b[0;34m\"latitude\"\u001b[0m\u001b[0;34m,\u001b[0m \u001b[0;34m\"longitude\"\u001b[0m\u001b[0;34m]\u001b[0m\u001b[0;34m]\u001b[0m\u001b[0;34m\u001b[0m\u001b[0;34m\u001b[0m\u001b[0m\n\u001b[1;32m      5\u001b[0m \u001b[0mpricing\u001b[0m \u001b[0;34m=\u001b[0m \u001b[0mnewyorkdf\u001b[0m\u001b[0;34m[\u001b[0m\u001b[0;34m\"price\"\u001b[0m\u001b[0;34m]\u001b[0m\u001b[0;34m\u001b[0m\u001b[0;34m\u001b[0m\u001b[0m\n",
      "\u001b[0;31mNameError\u001b[0m: name 'catsdf' is not defined"
     ]
    }
   ],
   "source": [
    "# Plot Heatmap of New York Listings with Intensity by Price\n",
    "\n",
    "newyorkdf= catsdf.loc[catsdf[\"key\"]==\"New York\"]\n",
    "locations = newyorkdf[[\"latitude\", \"longitude\"]]\n",
    "pricing = newyorkdf[\"price\"]\n",
    "\n",
    "coords = geodf.loc[\"New York\"]\n",
    "cen = (coords[\"lat\"],coords[\"lng\"])\n",
    "fig = gmaps.figure(map_type='HYBRID', center=cen, zoom_level=11)\n",
    "heatmap_layer = gmaps.heatmap_layer(locations, weights=pricing,\n",
    "                                    max_intensity=400, point_radius=5)\n",
    "fig.add_layer(heatmap_layer)\n",
    "plt.savefig(\"Images/NY_price_heatmap.png\")\n",
    "fig"
   ]
  },
  {
   "cell_type": "code",
   "execution_count": 61,
   "metadata": {},
   "outputs": [
    {
     "data": {
      "application/vnd.jupyter.widget-view+json": {
       "model_id": "5203fc0db5194d88af0c666607f80e9c",
       "version_major": 2,
       "version_minor": 0
      },
      "text/plain": [
       "Figure(layout=FigureLayout(height='420px'))"
      ]
     },
     "metadata": {},
     "output_type": "display_data"
    },
    {
     "data": {
      "text/plain": [
       "<Figure size 432x288 with 0 Axes>"
      ]
     },
     "metadata": {},
     "output_type": "display_data"
    }
   ],
   "source": [
    "# Heatmap with intensity by rating\n",
    "rating = newyorkdf[\"rating\"]\n",
    "\n",
    "coords = geodf.loc[\"New York\"]\n",
    "cen = (coords[\"lat\"],coords[\"lng\"])\n",
    "fig = gmaps.figure(map_type='HYBRID', center=cen, zoom_level=11)\n",
    "heatmap_layer = gmaps.heatmap_layer(locations, weights=rating,\n",
    "                                    max_intensity=400, point_radius=5)\n",
    "fig.add_layer(heatmap_layer)\n",
    "plt.savefig(\"Images/NY_rating_heatmap.png\")\n",
    "fig"
   ]
  },
  {
   "cell_type": "code",
   "execution_count": null,
   "metadata": {},
   "outputs": [],
   "source": []
  },
  {
   "cell_type": "code",
   "execution_count": null,
   "metadata": {},
   "outputs": [],
   "source": []
  }
 ],
 "metadata": {
  "kernelspec": {
   "display_name": "Python 3",
   "language": "python",
   "name": "python3"
  },
  "language_info": {
   "codemirror_mode": {
    "name": "ipython",
    "version": 3
   },
   "file_extension": ".py",
   "mimetype": "text/x-python",
   "name": "python",
   "nbconvert_exporter": "python",
   "pygments_lexer": "ipython3",
   "version": "3.7.2"
  }
 },
 "nbformat": 4,
 "nbformat_minor": 2
}
